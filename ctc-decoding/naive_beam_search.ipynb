{
 "cells": [
  {
   "cell_type": "markdown",
   "metadata": {},
   "source": [
    "# Ctc matrix decoding "
   ]
  },
  {
   "cell_type": "markdown",
   "metadata": {},
   "source": [
    "# ---------------------------------"
   ]
  },
  {
   "cell_type": "markdown",
   "metadata": {},
   "source": [
    "# TLDR:\n",
    "## TRANSCRIPT -> \"тридцать\"\n",
    "## DECODED -> \"твецать\"\n",
    "#### Aim - find right TRANSCRIPT in ctc matrix"
   ]
  },
  {
   "cell_type": "markdown",
   "metadata": {},
   "source": [
    "# ---------------------------------"
   ]
  },
  {
   "cell_type": "markdown",
   "metadata": {},
   "source": [
    "Задача: speech to text\n",
    "\n",
    "Метод решения: mozilla DS (acoustic model + greedy decoder).\n",
    "\n",
    "Проблема: иногда s2t модель коверкает слова (transcript->decoded) \"тридцать\"->\"твецать\", \"стандарт\"->\"ктандар\", \"восемь\"->\"вобесемь\" и т. д. Коверкание заключается в том, что неправильным (иногда похожим фонетически) буквами присваивается высокая вероятность, а правильным низкая. Модель расшифровывает услышанное, как будто бы это произносит маленький ребенок. s2t модель присваивает вероятности всем буквам алфавита на каждом time stamp.\n",
    "\n",
    "Hipotesis: В ctc матрице всегда найдутся правильные буквы; последовательность которая из них получается имеет не топовую но и не самую низкую вероятность. Она где то посередине. \n",
    "Если взять топ 5 символов по вероятности на каждом time stamp то среди них можно найти нужное слово.\n",
    "\n"
   ]
  },
  {
   "cell_type": "markdown",
   "metadata": {},
   "source": [
    "Проблема: получается много неправильных последовательностей"
   ]
  },
  {
   "cell_type": "markdown",
   "metadata": {},
   "source": [
    "ИТОГО: получилось что искать правильные слова в ctc матрице можно. Но Выбирать их всех похожих на правильные - отдельная проблема"
   ]
  },
  {
   "cell_type": "code",
   "execution_count": 50,
   "metadata": {},
   "outputs": [],
   "source": [
    "import itertools\n",
    "import numpy as np\n",
    "import matplotlib.pyplot as plt\n",
    "from Levenshtein import distance as levenshtein_distance"
   ]
  },
  {
   "cell_type": "code",
   "execution_count": 34,
   "metadata": {},
   "outputs": [],
   "source": [
    "def plot_ctc_matrix(cm,cmap=plt.cm.Reds):\n",
    "    plt.imshow(cm, interpolation='nearest', cmap=cmap)\n",
    "    plt.colorbar()\n",
    "    t12 = ['space', 'а', 'б', 'в', 'г', 'д', 'е', 'ж', 'з', 'и', 'й', 'к', 'л', 'м', 'н', 'о', 'п', 'р', 'с', 'т', 'у', 'ф', 'х', 'ц', 'ч', 'ш', 'щ', 'ъ', 'ы', 'ь', 'э', 'ю', 'я', '%']\n",
    "    plt.xticks(list(range(1, cm.shape[1], 1)))\n",
    "    plt.yticks(range(len(t12)), t12)\n",
    "    fmt = '.2f'\n",
    "    thresh = 0.01\n",
    "    for i, j in itertools.product(range(cm.shape[0]), range(cm.shape[1])):\n",
    "        if cm[i, j] > thresh:\n",
    "            plt.text(j, i, format(cm[i, j], fmt),\n",
    "                     horizontalalignment=\"center\",\n",
    "                     color=\"white\" if cm[i, j] > thresh else \"black\")\n",
    "    plt.tight_layout()\n",
    "\n",
    "def greedy_decoder(ctc, alphabet):\n",
    "    alphabet_size = len(alphabet)\n",
    "    arg_max = np.argmax(ctc, axis=1)\n",
    "    repeat_filter = arg_max[1:] != arg_max[:-1]\n",
    "    repeat_filter = np.concatenate([[True], repeat_filter])\n",
    "    collapsed = arg_max[repeat_filter]\n",
    "    return collapsed\n",
    "\n",
    "def top_n_max(series, top=2, diraction=max):\n",
    "    series = list(set(series.tolist()))\n",
    "    if diraction == max:\n",
    "        top_result = sorted(series)[-top:]\n",
    "    else:\n",
    "        top_result = sorted(series)[:top]\n",
    "    return top_result\n",
    "\n",
    "def lm(s, w, top=1, ngram=False):\n",
    "    \"\"\"\n",
    "    return: next top_n most probable word(s)\n",
    "    \"\"\"\n",
    "    t = {}\n",
    "    for k, v in w.items():\n",
    "        if k.split('<>')[1] == s:\n",
    "            t.update({k.split('<>')[0]: v})\n",
    "    t = {k: v for k, v in sorted(t.items(), key=lambda item: item[1], reverse=True)}\n",
    "    result = {}\n",
    "    i = 0\n",
    "    for k, v in t.items():\n",
    "        result.update({k: v})\n",
    "        i += 1\n",
    "        if i == top:\n",
    "            break\n",
    "    return result"
   ]
  },
  {
   "cell_type": "markdown",
   "metadata": {},
   "source": [
    "Аккустическая модель расшифровала слово \"тридцать\" как \"твецать\" (если применять greedy decoder)"
   ]
  },
  {
   "cell_type": "code",
   "execution_count": 36,
   "metadata": {},
   "outputs": [
    {
     "name": "stdout",
     "output_type": "stream",
     "text": [
      "  т%в%е%%%%%ц%аатть  --->  твецать \n"
     ]
    }
   ],
   "source": [
    "ctc = np.load('/Users/georgychernousov/Desktop/ctc_output/ctc_output_2021-11-17 15:25:16.739723.npy')[0]\n",
    "ctc_transposed = np.transpose(ctc)\n",
    "al = [' ', 'а', 'б', 'в', 'г', 'д', 'е', 'ж', 'з', 'и', 'й', 'к', 'л', 'м', 'н', 'о', 'п', 'р', 'с', 'т', 'у', 'ф', 'х', 'ц', 'ч', 'ш', 'щ', 'ъ', 'ы', 'ь', 'э', 'ю', 'я', '%']\n",
    "print(''.join([al[i] for i in np.argmax(ctc[185:205], axis=1)]), '--->', ''.join([al[i] for i in greedy_decoder(ctc[185:205], al) if i != 33]))\n"
   ]
  },
  {
   "cell_type": "markdown",
   "metadata": {},
   "source": [
    "По ctc-матрице видно наиболее вероятные буквы"
   ]
  },
  {
   "cell_type": "code",
   "execution_count": 4,
   "metadata": {},
   "outputs": [
    {
     "data": {
      "image/png": "[encoded data removed]",
      "text/plain": [
       "<Figure size 480x480 with 2 Axes>"
      ]
     },
     "metadata": {},
     "output_type": "display_data"
    }
   ],
   "source": [
    "plt.figure(num=None, figsize=(6, 6), dpi=80, facecolor='w', edgecolor='k')\n",
    "plot_ctc_matrix(ctc_transposed[:,187:205]) # 180:260\n",
    "plt.grid()\n",
    "plt.show()"
   ]
  },
  {
   "cell_type": "markdown",
   "metadata": {},
   "source": [
    "Выведем топ 5 букв по вероятности на каждом time stamp (вероятности от большей к меньшей справа налево)"
   ]
  },
  {
   "cell_type": "code",
   "execution_count": 136,
   "metadata": {},
   "outputs": [
    {
     "name": "stdout",
     "output_type": "stream",
     "text": [
      "187 ['б', ' ', 'д', 'с', 'т']\n",
      "188 ['х', 'т', 'и', 'е', '%']\n",
      "189 ['е', 'л', 'р', '%', 'в']\n",
      "190 ['а', 'и', 'л', 'в', '%']\n",
      "191 ['я', 'а', 'ы', 'и', 'е']\n",
      "192 ['е', 'с', 'в', 'д', '%']\n",
      "193 ['м', 'т', 'д', 'с', '%']\n",
      "194 ['ь', 'т', 'с', 'д', '%']\n",
      "195 ['ц', 'ь', ' ', 'д', '%']\n",
      "196 ['е', 'с', ' ', 'ц', '%']\n",
      "197 ['%', 'а', 'т', 'с', 'ц']\n",
      "198 ['с', 'о', 'т', 'а', '%']\n",
      "199 [' ', 'з', 'о', '%', 'а']\n",
      "200 ['%', 'ы', 'я', 'о', 'а']\n",
      "201 ['н', 'й', 'м', '%', 'т']\n",
      "202 ['н', 'м', 'ь', '%', 'т']\n",
      "203 ['н', ' ', '%', 'т', 'ь']\n",
      "204 ['ч', 'т', '%', 'ь', ' ']\n"
     ]
    }
   ],
   "source": [
    "for letter in range(187, 205, 1): # 4, 253\n",
    "    top = top_n_max(ctc_transposed[:,letter:letter+1].reshape(34,), top=5)\n",
    "    print(letter, [al[list(ctc_transposed[:,letter:letter+1]).index(i)] for i in top])"
   ]
  },
  {
   "cell_type": "markdown",
   "metadata": {},
   "source": [
    "Однако среди топ 5 букв есть нужная последовательность которая была прооизнесена на аудио"
   ]
  },
  {
   "cell_type": "markdown",
   "metadata": {},
   "source": [
    "![alt text](img.png \"Title\")"
   ]
  },
  {
   "cell_type": "markdown",
   "metadata": {},
   "source": [
    "Вероятности этих букв настолько меньше (можно видеть по тепловой карте) что во время декодинга матрицы beam search методом нужные последовательности просто вымываются "
   ]
  },
  {
   "cell_type": "markdown",
   "metadata": {},
   "source": [
    "Найдем все места где по мнению greedy decoder-а стоит пробел"
   ]
  },
  {
   "cell_type": "code",
   "execution_count": 38,
   "metadata": {},
   "outputs": [],
   "source": [
    "spaces = []\n",
    "wait = False\n",
    "arg_max = np.argmax(ctc, axis=1)\n",
    "for t, i in enumerate(arg_max):\n",
    "    if wait:\n",
    "        if i in [0, 33] and (arg_max[t+1] != 0 or arg_max[t+1] != 33):\n",
    "            spaces[-1].append(t)\n",
    "            continue\n",
    "        else:\n",
    "            wait = False\n",
    "    try:\n",
    "        if i == 0 and not wait and arg_max[t+1] in [0, 33]:\n",
    "            spaces.append([t])\n",
    "            wait = True\n",
    "        elif i != 0 and not wait and arg_max[t+1] in [0] and arg_max[t+2] not in [0]:\n",
    "            spaces.append([t])\n",
    "    except IndexError: # in case index is out of bounds\n",
    "        continue "
   ]
  },
  {
   "cell_type": "markdown",
   "metadata": {},
   "source": [
    "Теперь мы знаем все пробелы ctc матрицы в терминах time stamp"
   ]
  },
  {
   "cell_type": "code",
   "execution_count": 17,
   "metadata": {},
   "outputs": [
    {
     "data": {
      "text/plain": [
       "[[55, 56, 57, 58, 59, 60],\n",
       " [74, 75, 76, 77],\n",
       " [107, 108],\n",
       " [120, 121, 122, 123],\n",
       " [131],\n",
       " [159],\n",
       " [160, 161],\n",
       " [167],\n",
       " [168, 169],\n",
       " [185, 186],\n",
       " [204, 205],\n",
       " [228, 229, 230, 231],\n",
       " [285, 286, 287, 288],\n",
       " [297, 298],\n",
       " [325, 326, 327],\n",
       " [355, 356, 357],\n",
       " [385, 386, 387],\n",
       " [397, 398, 399, 400],\n",
       " [424, 425, 426],\n",
       " [442, 443],\n",
       " [472, 473]]"
      ]
     },
     "execution_count": 17,
     "metadata": {},
     "output_type": "execute_result"
    }
   ],
   "source": [
    "spaces"
   ]
  },
  {
   "cell_type": "markdown",
   "metadata": {},
   "source": [
    "Найдем начало и конец искомого слова в ctc матрице (Это осложняетя повторением букв ии наличием blank символа)"
   ]
  },
  {
   "cell_type": "code",
   "execution_count": 39,
   "metadata": {},
   "outputs": [
    {
     "name": "stdout",
     "output_type": "stream",
     "text": [
      "[186, 187, 188, 189, 190, 191, 192, 193, 194, 195, 196, 197, 198, 199, 200, 201, 202, 203]\n",
      " т%в%е%%%%%ц%аатт\n"
     ]
    }
   ],
   "source": [
    "word = 'твецать'\n",
    "def foo(w):\n",
    "    w_ = ''\n",
    "    for n, i in enumerate(w):\n",
    "        if n != 0:\n",
    "            if w_[-1] != i:\n",
    "                w_ += i\n",
    "        else:\n",
    "            w_ += i\n",
    "    return w_\n",
    "def locate_ctc(arg_max, greedy_word):\n",
    "    argmax_slice = 0\n",
    "    word = ''\n",
    "    position = []\n",
    "    for i in range(len(arg_max)):\n",
    "        if i not in spaces[argmax_slice]:\n",
    "            word += al[arg_max[i]] if al[arg_max[i]] != '%' and al[arg_max[i]] != ' ' else ''\n",
    "            position.append(i)\n",
    "            if foo(word) == greedy_word:\n",
    "                break\n",
    "        else:\n",
    "            word = ''\n",
    "            position = []\n",
    "            argmax_slice += 1\n",
    "    return position\n",
    "ctc_word_position = locate_ctc(np.argmax(ctc, axis=1), word)\n",
    "print(ctc_word_position)\n",
    "start = ctc_word_position[0]\n",
    "end = ctc_word_position[-1]\n",
    "print(''.join([al[i] for i in arg_max[start:end]]))# .index(' к%%%%%т%%а%%'))"
   ]
  },
  {
   "cell_type": "markdown",
   "metadata": {},
   "source": [
    "Возьмем весь корпус слов используемого домена. Наберем в переменную splitted_corpus все слова из корпуса но обрезанные по длине от 1 до длины искомого слова"
   ]
  },
  {
   "cell_type": "code",
   "execution_count": 40,
   "metadata": {},
   "outputs": [
    {
     "name": "stdout",
     "output_type": "stream",
     "text": [
      "<class 'list'> 2745 ['розовых', 'опухолевые', 'кластеров', 'многочисленными', 'экзофитный']\n"
     ]
    }
   ],
   "source": [
    "import json\n",
    "with open('/Users/georgychernousov/pat_2021_sept/1_gram_lm.json') as json_file:\n",
    "    w = json.load(json_file)\n",
    "corpus = []\n",
    "for k in w.keys():\n",
    "    for i in k.split('<>'):\n",
    "        corpus.append(i) if '<' not in i else None\n",
    "corpus = list(set(corpus))\n",
    "print(type(corpus), len(corpus), corpus[10:15])\n",
    "splitted_corpus = {}\n",
    "for i in range(len(word)+5):\n",
    "    splitted_corpus.update({i+1:[]})\n",
    "    for ii in corpus:\n",
    "        splitted_corpus[i+1].append(ii[:i+1])"
   ]
  },
  {
   "cell_type": "markdown",
   "metadata": {},
   "source": [
    "Соберем все вероятные последовательности которые можно составить из 18 наборов по 5 букв (очевидно что таких комбинаций будет 5**18 степени (3814697265625 шт). Чтобы этого избежать - оставляем только те, что есть в нашей языковой марковской мобели)"
   ]
  },
  {
   "cell_type": "code",
   "execution_count": 48,
   "metadata": {},
   "outputs": [
    {
     "name": "stdout",
     "output_type": "stream",
     "text": [
      "4\n",
      "8\n",
      "19\n",
      "47\n",
      "91\n",
      "83\n",
      "122\n",
      "180\n",
      "249\n",
      "283\n",
      "348\n",
      "496\n",
      "755\n",
      "925\n",
      "1156\n",
      "1696\n",
      "2403\n"
     ]
    }
   ],
   "source": [
    "import numpy as np\n",
    "al = [' ', 'а', 'б', 'в', 'г', 'д', 'е', 'ж', 'з', 'и', 'й', 'к', 'л', 'м', 'н', 'о', 'п', 'р', 'с', 'т', 'у', 'ф', 'х', 'ц', 'ч', 'ш', 'щ', 'ъ', 'ы', 'ь', 'э', 'ю', 'я', '%']\n",
    "\n",
    "A_next = {start-1: ['']}\n",
    "weights = {}\n",
    "c = 0\n",
    "for letter in range(start, end, 1): # 205\n",
    "    top = top_n_max(ctc_transposed[:,letter:letter+1].reshape(34,), top=5)\n",
    "    alphabet = [al[list(ctc_transposed[:,letter:letter+1]).index(i)] for i in top]\n",
    "    al_top = dict(zip(alphabet, top))\n",
    "    new_strings = []\n",
    "    A_next.update({letter: []})\n",
    "    for ph in A_next[letter-1]:\n",
    "        for l in alphabet:\n",
    "            if l != '%':\n",
    "                add = ph + l\n",
    "                if add in splitted_corpus[len(add)]:\n",
    "                    A_next[letter].append(add)\n",
    "                    weights.update({add: al_top[l]})\n",
    "            elif l == '%':\n",
    "                A_next[letter].append(ph)\n",
    "    print(len(A_next[letter]))\n",
    "    "
   ]
  },
  {
   "cell_type": "markdown",
   "metadata": {},
   "source": [
    "# Расстояние левенштейна"
   ]
  },
  {
   "cell_type": "markdown",
   "metadata": {},
   "source": [
    "Судя по расстоянию Левенштейна самые близкие слова к искомому слову - нужные "
   ]
  },
  {
   "cell_type": "code",
   "execution_count": 53,
   "metadata": {},
   "outputs": [
    {
     "data": {
      "text/plain": [
       "{'двадцать': 3,\n",
       " 'тридцать': 3,\n",
       " 'девять': 4,\n",
       " 'десять': 4,\n",
       " 'тела': 4,\n",
       " 'семь': 5,\n",
       " 'теле': 5,\n",
       " 'та': 5,\n",
       " 'дата': 5,\n",
       " 'триста': 5,\n",
       " 'серая': 5,\n",
       " 'слева': 5,\n",
       " 'два': 5,\n",
       " 'две': 5,\n",
       " 'белый': 6,\n",
       " 'следы': 6,\n",
       " 'бледо': 6,\n",
       " 'белые': 6,\n",
       " 'серый': 6,\n",
       " 'псевдо': 6,\n",
       " 'три': 6,\n",
       " 'белесо': 6,\n",
       " 'без': 6,\n",
       " 'слизь': 6,\n",
       " 'серые': 6,\n",
       " 'срезы': 6,\n",
       " 'стри': 7,\n",
       " 'белесый': 7,\n",
       " 'семьсот': 7,\n",
       " 'для': 7,\n",
       " 'девятьсот': 7,\n",
       " 'семьдесят': 8}"
      ]
     },
     "execution_count": 53,
     "metadata": {},
     "output_type": "execute_result"
    }
   ],
   "source": [
    "result = {}\n",
    "for i in list(set(A_next[list(A_next.keys())[-1]])):\n",
    "    if lm(i, w, top=1) != {}:\n",
    "        result.update({i: levenshtein_distance(i, word)})\n",
    "{k: v for k, v in sorted(result.items(), key=lambda item: item[1])}"
   ]
  },
  {
   "cell_type": "markdown",
   "metadata": {},
   "source": [
    "# Перемножить вероятности ctc матрицы найденных букв"
   ]
  },
  {
   "cell_type": "markdown",
   "metadata": {},
   "source": [
    "Посчитаем куммулятивные вероятности из ctc матрицы этих слов"
   ]
  },
  {
   "cell_type": "markdown",
   "metadata": {},
   "source": [
    "для слова \"твецать\""
   ]
  },
  {
   "cell_type": "code",
   "execution_count": 124,
   "metadata": {},
   "outputs": [
    {
     "data": {
      "text/plain": [
       "<AxesSubplot:>"
      ]
     },
     "execution_count": 124,
     "metadata": {},
     "output_type": "execute_result"
    },
    {
     "data": {
      "image/png": "[encoded data removed]",
      "text/plain": [
       "<Figure size 432x288 with 1 Axes>"
      ]
     },
     "metadata": {
      "needs_background": "light"
     },
     "output_type": "display_data"
    }
   ],
   "source": [
    "import pandas as pd\n",
    "ctc_probas_1 = [max(i) for i in ctc[start:end]]\n",
    "pd.Series(ctc_probas_1).hist()"
   ]
  },
  {
   "cell_type": "code",
   "execution_count": 186,
   "metadata": {},
   "outputs": [
    {
     "data": {
      "text/plain": [
       "0.08564907"
      ]
     },
     "execution_count": 186,
     "metadata": {},
     "output_type": "execute_result"
    }
   ],
   "source": [
    "np.prod(ctc_probas_1)"
   ]
  },
  {
   "cell_type": "markdown",
   "metadata": {},
   "source": [
    "для слова \"тридцать\""
   ]
  },
  {
   "cell_type": "code",
   "execution_count": 181,
   "metadata": {},
   "outputs": [
    {
     "name": "stdout",
     "output_type": "stream",
     "text": [
      "т 0.001506983069702983\n",
      "р 0.8192211985588074\n",
      "% 0.8292792439460754\n",
      "р 0.019735047593712807\n",
      "и 0.0008473359630443156\n",
      "д 0.12393978238105774\n",
      "д 0.0019630854949355125\n",
      "% 0.9200761914253235\n",
      "% 0.575206995010376\n",
      "ц 0.011284144595265388\n",
      "% 0.8588422536849976\n",
      "а 6.931575626367703e-05\n",
      "т 0.000186350749572739\n",
      "% 0.2408692091703415\n",
      "% 1.7950498659047298e-05\n",
      "% 0.19228558242321014\n",
      "ь 0.0006141709163784981\n"
     ]
    },
    {
     "data": {
      "text/plain": [
       "<AxesSubplot:>"
      ]
     },
     "execution_count": 181,
     "metadata": {},
     "output_type": "execute_result"
    },
    {
     "data": {
      "image/png": "[encoded data removed]",
      "text/plain": [
       "<Figure size 432x288 with 1 Axes>"
      ]
     },
     "metadata": {
      "needs_background": "light"
     },
     "output_type": "display_data"
    }
   ],
   "source": [
    "word = 'тридцать'\n",
    "current_letter = word[0]\n",
    "current_letter_ind = 0\n",
    "ctc_probas_2 = []\n",
    "for letter in range(start, end, 1):\n",
    "    top = top_n_max(ctc_transposed[:,letter:letter+1].reshape(34,), top=5)\n",
    "    letters_top = [al[list(ctc_transposed[:,letter:letter+1]).index(i)] for i in top]\n",
    "    if current_letter in letters_top:\n",
    "        try:\n",
    "            print(current_letter, top[letters_top.index(current_letter)])\n",
    "            ctc_probas_2.append(top[letters_top.index(current_letter)])\n",
    "            current_letter_ind += 1\n",
    "            current_letter = word[current_letter_ind]\n",
    "        except IndexError:\n",
    "            current_letter_ind -= 1\n",
    "            # break\n",
    "    elif '%' in letters_top or word[current_letter_ind-1] in letters_top:\n",
    "        try:\n",
    "            print('%', top[letters_top.index('%')])\n",
    "            ctc_probas_2.append(top[letters_top.index('%')])\n",
    "        except ValueError:\n",
    "            print(current_letter, top[letters_top.index(word[current_letter_ind-1])])\n",
    "            ctc_probas_2.append(top[letters_top.index(word[current_letter_ind-1])])\n",
    "    elif ' ' in letters_top:\n",
    "        print('space', top[letters_top.index(word[current_letter_ind-1])])\n",
    "        ctc_probas_2.append(top[letters_top.index(' ')])\n",
    "    else:\n",
    "        print('letter pass')\n",
    "pd.Series(ctc_probas_2).hist()\n"
   ]
  },
  {
   "cell_type": "code",
   "execution_count": 187,
   "metadata": {},
   "outputs": [
    {
     "data": {
      "text/plain": [
       "True"
      ]
     },
     "execution_count": 187,
     "metadata": {},
     "output_type": "execute_result"
    }
   ],
   "source": [
    "np.prod(ctc_probas_2) < np.prod(ctc_probas_1)"
   ]
  },
  {
   "cell_type": "markdown",
   "metadata": {},
   "source": [
    "для слова \"десять\""
   ]
  },
  {
   "cell_type": "code",
   "execution_count": 188,
   "metadata": {},
   "outputs": [
    {
     "name": "stdout",
     "output_type": "stream",
     "text": [
      "% 0.049048468470573425\n",
      "д 0.027814336121082306\n",
      "е 0.14937801659107208\n",
      "% 0.024215776473283768\n",
      "% 0.9737982749938965\n",
      "с 0.8536779284477234\n",
      "с 0.0012529866071417928\n",
      "% 0.9200761914253235\n",
      "% 0.575206995010376\n",
      "% 0.8461370468139648\n",
      "% 0.8588422536849976\n",
      "% 6.404768646461889e-05\n",
      "% 0.9984669089317322\n",
      "% 0.2408692091703415\n",
      "я 6.467534694820642e-05\n",
      "т 0.8075715899467468\n",
      "ь 0.0006141709163784981\n"
     ]
    },
    {
     "data": {
      "text/plain": [
       "<AxesSubplot:>"
      ]
     },
     "execution_count": 188,
     "metadata": {},
     "output_type": "execute_result"
    },
    {
     "data": {
      "image/png": "[encoded data removed]",
      "text/plain": [
       "<Figure size 432x288 with 1 Axes>"
      ]
     },
     "metadata": {
      "needs_background": "light"
     },
     "output_type": "display_data"
    }
   ],
   "source": [
    "word = 'десять'\n",
    "current_letter = word[0]\n",
    "current_letter_ind = 0\n",
    "ctc_probas_3 = []\n",
    "for letter in range(start, end, 1):\n",
    "    top = top_n_max(ctc_transposed[:,letter:letter+1].reshape(34,), top=5)\n",
    "    letters_top = [al[list(ctc_transposed[:,letter:letter+1]).index(i)] for i in top]\n",
    "    if current_letter in letters_top:\n",
    "        try:\n",
    "            print(current_letter, top[letters_top.index(current_letter)])\n",
    "            ctc_probas_3.append(top[letters_top.index(current_letter)])\n",
    "            current_letter_ind += 1\n",
    "            current_letter = word[current_letter_ind]\n",
    "        except IndexError:\n",
    "            current_letter_ind -= 1\n",
    "            # break\n",
    "    elif '%' in letters_top or word[current_letter_ind-1] in letters_top:\n",
    "        try:\n",
    "            print('%', top[letters_top.index('%')])\n",
    "            ctc_probas_3.append(top[letters_top.index('%')])\n",
    "        except ValueError:\n",
    "            print(current_letter, top[letters_top.index(word[current_letter_ind-1])])\n",
    "            ctc_probas_3.append(top[letters_top.index(word[current_letter_ind-1])])\n",
    "    elif ' ' in letters_top:\n",
    "        ctc_probas_3.append(top[letters_top.index(' ')])\n",
    "    else:\n",
    "        pass\n",
    "pd.Series(ctc_probas_3).hist()\n"
   ]
  },
  {
   "cell_type": "code",
   "execution_count": 189,
   "metadata": {},
   "outputs": [
    {
     "data": {
      "text/plain": [
       "False"
      ]
     },
     "execution_count": 189,
     "metadata": {},
     "output_type": "execute_result"
    }
   ],
   "source": [
    "np.prod(ctc_probas_3) < np.prod(ctc_probas_2)"
   ]
  },
  {
   "cell_type": "code",
   "execution_count": 190,
   "metadata": {},
   "outputs": [
    {
     "data": {
      "text/plain": [
       "(9.768283177829464e-22, 1.4090973287668378e-31)"
      ]
     },
     "execution_count": 190,
     "metadata": {},
     "output_type": "execute_result"
    }
   ],
   "source": [
    "np.prod(ctc_probas_3), np.prod(ctc_probas_2)"
   ]
  },
  {
   "cell_type": "markdown",
   "metadata": {},
   "source": [
    "для слова \"тела\""
   ]
  },
  {
   "cell_type": "code",
   "execution_count": 171,
   "metadata": {},
   "outputs": [
    {
     "name": "stdout",
     "output_type": "stream",
     "text": [
      "т 0.001506983069702983\n",
      "е 0.8192211985588074\n",
      "е 0.14937801659107208\n",
      "л 0.015083624981343746\n",
      "а 0.0005233562551438808\n",
      "а 0.008024519309401512\n",
      "% 0.9942909479141235\n",
      "% 0.9200761914253235\n",
      "% 0.575206995010376\n",
      "% 0.8461370468139648\n",
      "% 0.8588422536849976\n",
      "а 6.931575626367703e-05\n",
      "а 0.0012575250584632158\n",
      "а 0.7576540112495422\n",
      "а 0.9991201758384705\n",
      "% 0.19228558242321014\n",
      "% 0.005748456809669733\n"
     ]
    },
    {
     "data": {
      "text/plain": [
       "<AxesSubplot:>"
      ]
     },
     "execution_count": 171,
     "metadata": {},
     "output_type": "execute_result"
    },
    {
     "data": {
      "image/png": "[encoded data removed]",
      "text/plain": [
       "<Figure size 432x288 with 1 Axes>"
      ]
     },
     "metadata": {
      "needs_background": "light"
     },
     "output_type": "display_data"
    }
   ],
   "source": [
    "word = 'тела'\n",
    "current_letter = word[0]\n",
    "current_letter_ind = 0\n",
    "ctc_probas_4 = []\n",
    "for letter in range(start, end, 1):\n",
    "    top = top_n_max(ctc_transposed[:,letter:letter+1].reshape(34,), top=5)\n",
    "    letters_top = [al[list(ctc_transposed[:,letter:letter+1]).index(i)] for i in top]\n",
    "    if current_letter in letters_top:\n",
    "        try:\n",
    "            print(current_letter, top[letters_top.index(current_letter)])\n",
    "            ctc_probas_4.append(top[letters_top.index(current_letter)])\n",
    "            current_letter_ind += 1\n",
    "            current_letter = word[current_letter_ind]\n",
    "        except IndexError:\n",
    "            current_letter_ind -= 1\n",
    "            # break\n",
    "    elif '%' in letters_top or word[current_letter_ind-1] in letters_top:\n",
    "        try:\n",
    "            print('%', top[letters_top.index('%')])\n",
    "            ctc_probas_4.append(top[letters_top.index('%')])\n",
    "        except ValueError:\n",
    "            print(current_letter, top[letters_top.index(word[current_letter_ind-1])])\n",
    "            ctc_probas_4.append(top[letters_top.index(word[current_letter_ind-1])])\n",
    "    elif ' ' in letters_top:\n",
    "        ctc_probas_4.append(top[letters_top.index(' ')])\n",
    "    else:\n",
    "        print('letter pass')\n",
    "pd.Series(ctc_probas_4).hist()\n"
   ]
  },
  {
   "cell_type": "code",
   "execution_count": 172,
   "metadata": {},
   "outputs": [
    {
     "data": {
      "text/plain": [
       "3.2581361639485254e-22"
      ]
     },
     "execution_count": 172,
     "metadata": {},
     "output_type": "execute_result"
    }
   ],
   "source": [
    "np.prod(ctc_probas_4)"
   ]
  },
  {
   "cell_type": "code",
   "execution_count": 174,
   "metadata": {},
   "outputs": [
    {
     "data": {
      "text/plain": [
       "1.4090973287668378e-31"
      ]
     },
     "execution_count": 174,
     "metadata": {},
     "output_type": "execute_result"
    }
   ],
   "source": [
    "np.prod(ctc_probas_2)"
   ]
  }
 ],
 "metadata": {
  "kernelspec": {
   "display_name": "Python 3",
   "language": "python",
   "name": "python3"
  },
  "language_info": {
   "codemirror_mode": {
    "name": "ipython",
    "version": 3
   },
   "file_extension": ".py",
   "mimetype": "text/x-python",
   "name": "python",
   "nbconvert_exporter": "python",
   "pygments_lexer": "ipython3",
   "version": "3.8.5"
  }
 },
 "nbformat": 4,
 "nbformat_minor": 4
}
